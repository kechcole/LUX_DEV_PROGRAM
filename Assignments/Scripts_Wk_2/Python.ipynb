{
 "cells": [
  {
   "cell_type": "markdown",
   "metadata": {},
   "source": [
    "# EXPLORATORY DATA ANALYSIS. \n",
    "\n",
    "In this course I perfornmed exploratory data analysis on the weather data provided in week one. This helped me understand the data more by uncovering hidden patterns, insights and potential defects that may hinder decision making process. As an an aspiring spatial data scientinst, EDA is a crucial step as it directly influences the quality of information generated from machine learning models and deep learning algorithms. \n",
    "\n",
    "\n",
    "## 1. Data Overview and Cleaning. \n",
    "\n",
    "After data colliction, the first step is understanding the features and characteristics in data through variables present in our dataset. Identifying key attributes that will have the maximum impact on our outcome is key. Unnecessary information i.e. duplicates, null values, outliers and anomalies need to be removed, this will save you a ton of time during computation, subsequently improving the quality of final results.  \n"
   ]
  },
  {
   "cell_type": "code",
   "execution_count": 1,
   "metadata": {},
   "outputs": [],
   "source": [
    "# Import modules required and import\n",
    "\n",
    "import pandas as pd\n",
    "import seaborn as sns"
   ]
  },
  {
   "cell_type": "code",
   "execution_count": 2,
   "metadata": {},
   "outputs": [
    {
     "name": "stdout",
     "output_type": "stream",
     "text": [
      "Head sample :\n",
      "        Date/Time  Temp_C  Dew Point Temp_C  Rel Hum_%  Wind Speed_km/h  \\\n",
      "0  1/1/2012 0:00    -1.8              -3.9         86                4   \n",
      "1  1/1/2012 1:00    -1.8              -3.7         87                4   \n",
      "2  1/1/2012 2:00    -1.8              -3.4         89                7   \n",
      "3  1/1/2012 3:00    -1.5              -3.2         88                6   \n",
      "4  1/1/2012 4:00    -1.5              -3.3         88                7   \n",
      "\n",
      "   Visibility_km  Press_kPa               Weather  \n",
      "0            8.0     101.24                   Fog  \n",
      "1            8.0     101.24                   Fog  \n",
      "2            4.0     101.26  Freezing Drizzle,Fog  \n",
      "3            4.0     101.27  Freezing Drizzle,Fog  \n",
      "4            4.8     101.23                   Fog   \n",
      "\n",
      " Tail sample : \n",
      "             Date/Time  Temp_C  Dew Point Temp_C  Rel Hum_%  Wind Speed_km/h  \\\n",
      "8779  12/31/2012 19:00     0.1              -2.7         81               30   \n",
      "8780  12/31/2012 20:00     0.2              -2.4         83               24   \n",
      "8781  12/31/2012 21:00    -0.5              -1.5         93               28   \n",
      "8782  12/31/2012 22:00    -0.2              -1.8         89               28   \n",
      "8783  12/31/2012 23:00     0.0              -2.1         86               30   \n",
      "\n",
      "      Visibility_km  Press_kPa Weather  \n",
      "8779            9.7     100.13    Snow  \n",
      "8780            9.7     100.03    Snow  \n",
      "8781            4.8      99.95    Snow  \n",
      "8782            9.7      99.91    Snow  \n",
      "8783           11.3      99.89    Snow  \n"
     ]
    }
   ],
   "source": [
    "# Import dataset \n",
    "\n",
    "data = pd.read_csv('../Data/1. Weather Data.csv')\n",
    "\n",
    "# Head and tail \n",
    "print(f'Head sample :\\n {data.head(5)} \\n\\n Tail sample : \\n{data.tail(5)}')"
   ]
  },
  {
   "cell_type": "code",
   "execution_count": 3,
   "metadata": {},
   "outputs": [
    {
     "name": "stdout",
     "output_type": "stream",
     "text": [
      "Number of rows and columns : (8784, 8)\n"
     ]
    }
   ],
   "source": [
    "# Analysing data \n",
    "\n",
    "# 1. Features(columns) and observation(rows) presents in the dataset\n",
    "print(f'Number of rows and columns : {data.shape}')\n"
   ]
  },
  {
   "cell_type": "code",
   "execution_count": 4,
   "metadata": {},
   "outputs": [
    {
     "name": "stdout",
     "output_type": "stream",
     "text": [
      "<class 'pandas.core.frame.DataFrame'>\n",
      "RangeIndex: 8784 entries, 0 to 8783\n",
      "Data columns (total 8 columns):\n",
      " #   Column            Non-Null Count  Dtype  \n",
      "---  ------            --------------  -----  \n",
      " 0   Date/Time         8784 non-null   object \n",
      " 1   Temp_C            8784 non-null   float64\n",
      " 2   Dew Point Temp_C  8784 non-null   float64\n",
      " 3   Rel Hum_%         8784 non-null   int64  \n",
      " 4   Wind Speed_km/h   8784 non-null   int64  \n",
      " 5   Visibility_km     8784 non-null   float64\n",
      " 6   Press_kPa         8784 non-null   float64\n",
      " 7   Weather           8784 non-null   object \n",
      "dtypes: float64(4), int64(2), object(2)\n",
      "memory usage: 549.1+ KB\n",
      "Column data types : None \n",
      "\n",
      "\n",
      "Sum of missing information in each column : \n",
      " Date/Time           0\n",
      "Temp_C              0\n",
      "Dew Point Temp_C    0\n",
      "Rel Hum_%           0\n",
      "Wind Speed_km/h     0\n",
      "Visibility_km       0\n",
      "Press_kPa           0\n",
      "Weather             0\n",
      "dtype: int64\n"
     ]
    }
   ],
   "source": [
    "# 2. Column data type and associated information such as missing data, \n",
    "\n",
    "print(f'Column data types : {data.info()} \\n\\n')\n",
    "\n",
    "# Check missing data \n",
    "print(f'Sum of missing information in each column : \\n {data.isnull().sum()}')"
   ]
  },
  {
   "cell_type": "code",
   "execution_count": 5,
   "metadata": {},
   "outputs": [
    {
     "data": {
      "text/plain": [
       "['Date/Time',\n",
       " 'Temp_C',\n",
       " 'Dew Point Temp_C',\n",
       " 'Rel Hum_%',\n",
       " 'Wind Speed_km/h',\n",
       " 'Visibility_km',\n",
       " 'Press_kPa',\n",
       " 'Weather']"
      ]
     },
     "execution_count": 5,
     "metadata": {},
     "output_type": "execute_result"
    }
   ],
   "source": [
    "# Columns to list \n",
    "# Sometimes you would need to easi;ly access the colums either for further manipulation or \n",
    "# any other purpose. Python provides a convinient way of bundling them together into a list \n",
    " \n",
    "features_lst = data.columns.tolist()\n",
    "features_lst"
   ]
  },
  {
   "cell_type": "code",
   "execution_count": 6,
   "metadata": {},
   "outputs": [
    {
     "name": "stdout",
     "output_type": "stream",
     "text": [
      "<class 'pandas.core.frame.DataFrame'>\n",
      "RangeIndex: 8784 entries, 0 to 8783\n",
      "Data columns (total 8 columns):\n",
      " #   Column            Non-Null Count  Dtype         \n",
      "---  ------            --------------  -----         \n",
      " 0   Date/Time         8784 non-null   datetime64[ns]\n",
      " 1   Temp_C            8784 non-null   float64       \n",
      " 2   Dew Point Temp_C  8784 non-null   float64       \n",
      " 3   Rel Hum_%         8784 non-null   int64         \n",
      " 4   Wind Speed_km/h   8784 non-null   int64         \n",
      " 5   Visibility_km     8784 non-null   float64       \n",
      " 6   Press_kPa         8784 non-null   float64       \n",
      " 7   Weather           8784 non-null   object        \n",
      "dtypes: datetime64[ns](1), float64(4), int64(2), object(1)\n",
      "memory usage: 549.1+ KB\n",
      "None\n",
      "\n",
      "\n",
      " Sample head of date column : \n",
      " 0   2012-01-01 00:00:00\n",
      "1   2012-01-01 01:00:00\n",
      "2   2012-01-01 02:00:00\n",
      "3   2012-01-01 03:00:00\n",
      "Name: Date/Time, dtype: datetime64[ns]\n"
     ]
    }
   ],
   "source": [
    "# Convert date time column from object/string to datetimer format \n",
    "\n",
    "# convert the 'Date' column to datetime format\n",
    "data['Date/Time']= pd.to_datetime(data['Date/Time'])\n",
    "\n",
    "# Check the format of 'Date' column\n",
    "print(data.info())\n",
    "\n",
    "# Check date column sample \n",
    "\n",
    "print(f'\\n\\n Sample head of date column : \\n {data['Date/Time'].head(4)}')\n"
   ]
  },
  {
   "cell_type": "code",
   "execution_count": 7,
   "metadata": {},
   "outputs": [
    {
     "name": "stdout",
     "output_type": "stream",
     "text": [
      "Unique values in each column : \n",
      " Date/Time           8784\n",
      "Temp_C               533\n",
      "Dew Point Temp_C     489\n",
      "Rel Hum_%             83\n",
      "Wind Speed_km/h       34\n",
      "Visibility_km         24\n",
      "Press_kPa            518\n",
      "Weather               50\n",
      "dtype: int64 \n",
      "\n",
      " Rows with similar column data : \n",
      " Empty DataFrame\n",
      "Columns: [Date/Time, Temp_C, Dew Point Temp_C, Rel Hum_%, Wind Speed_km/h, Visibility_km, Press_kPa, Weather]\n",
      "Index: []\n"
     ]
    }
   ],
   "source": [
    "# Duplicates \n",
    "\n",
    "# Find unique values ain each column \n",
    "print(f'Unique values in each column : \\n {data.nunique()} \\n')\n",
    "\n",
    "\n",
    "# find duplicate rows across all columns\n",
    "# Since we dont have a column that uniquely identifies each observation , we can find values that \n",
    "# have duplicates across the columns meaning that each column value are similar \n",
    "duplicateRows = data[data.duplicated()]\n",
    "\n",
    "print(f' Rows with similar column data : \\n {duplicateRows}')"
   ]
  },
  {
   "cell_type": "markdown",
   "metadata": {},
   "source": [
    "## 2. Statistical Summary.\n",
    "\n",
    "Statistical summary offers a quick and insightfull view of the dataset by giving the mean, standard devition, minimum value, maximum value, percentiles and other key information about each column. "
   ]
  },
  {
   "cell_type": "code",
   "execution_count": 8,
   "metadata": {},
   "outputs": [
    {
     "name": "stdout",
     "output_type": "stream",
     "text": [
      "Key description metrics of data columns : \n",
      "                  Date/Time       Temp_C  Dew Point Temp_C    Rel Hum_%  \\\n",
      "count                 8784  8784.000000       8784.000000  8784.000000   \n",
      "mean   2012-07-01 23:30:00     8.798144          2.555294    67.431694   \n",
      "min    2012-01-01 00:00:00   -23.300000        -28.500000    18.000000   \n",
      "25%    2012-04-01 11:45:00     0.100000         -5.900000    56.000000   \n",
      "50%    2012-07-01 23:30:00     9.300000          3.300000    68.000000   \n",
      "75%    2012-10-01 11:15:00    18.800000         11.800000    81.000000   \n",
      "max    2012-12-31 23:00:00    33.000000         24.400000   100.000000   \n",
      "std                    NaN    11.687883         10.883072    16.918881   \n",
      "\n",
      "       Wind Speed_km/h  Visibility_km    Press_kPa  \n",
      "count      8784.000000    8784.000000  8784.000000  \n",
      "mean         14.945469      27.664447   101.051623  \n",
      "min           0.000000       0.200000    97.520000  \n",
      "25%           9.000000      24.100000   100.560000  \n",
      "50%          13.000000      25.000000   101.070000  \n",
      "75%          20.000000      25.000000   101.590000  \n",
      "max          83.000000      48.300000   103.650000  \n",
      "std           8.688696      12.622688     0.844005   \n",
      "\n",
      "\n",
      "Mean temprature : 8.798144353369764 \n",
      " Most occuring humidity value : 68 \n",
      "      Median wind speed : 13.0\n"
     ]
    }
   ],
   "source": [
    "# Desription includes vital statistics for each numeric column\n",
    "print(f'Key description metrics of data columns : \\n {data.describe()} \\n\\n')\n",
    "\n",
    "\n",
    "# Finding values for specific columns i.e mean, mode, median \n",
    "mean_temp = data.Temp_C.mean()\n",
    "mode_hum = data['Rel Hum_%'].mode().iloc[0]\n",
    "md_speed = data['Wind Speed_km/h'].median()\n",
    "print(f'Mean temprature : {mean_temp} \\n Most occuring humidity value : {mode_hum} \\n\\\n",
    "      Median wind speed : {md_speed}')"
   ]
  },
  {
   "cell_type": "code",
   "execution_count": 9,
   "metadata": {},
   "outputs": [
    {
     "data": {
      "text/html": [
       "<div>\n",
       "<style scoped>\n",
       "    .dataframe tbody tr th:only-of-type {\n",
       "        vertical-align: middle;\n",
       "    }\n",
       "\n",
       "    .dataframe tbody tr th {\n",
       "        vertical-align: top;\n",
       "    }\n",
       "\n",
       "    .dataframe thead th {\n",
       "        text-align: right;\n",
       "    }\n",
       "</style>\n",
       "<table border=\"1\" class=\"dataframe\">\n",
       "  <thead>\n",
       "    <tr style=\"text-align: right;\">\n",
       "      <th></th>\n",
       "      <th>Temp_C</th>\n",
       "      <th>Dew Point Temp_C</th>\n",
       "      <th>Rel Hum_%</th>\n",
       "      <th>Wind Speed_km/h</th>\n",
       "      <th>Visibility_km</th>\n",
       "      <th>Press_kPa</th>\n",
       "    </tr>\n",
       "  </thead>\n",
       "  <tbody>\n",
       "    <tr>\n",
       "      <th>Temp_C</th>\n",
       "      <td>1.000000</td>\n",
       "      <td>0.932714</td>\n",
       "      <td>-0.220182</td>\n",
       "      <td>-0.061876</td>\n",
       "      <td>0.273455</td>\n",
       "      <td>-0.236389</td>\n",
       "    </tr>\n",
       "    <tr>\n",
       "      <th>Dew Point Temp_C</th>\n",
       "      <td>0.932714</td>\n",
       "      <td>1.000000</td>\n",
       "      <td>0.139494</td>\n",
       "      <td>-0.095685</td>\n",
       "      <td>0.050813</td>\n",
       "      <td>-0.320616</td>\n",
       "    </tr>\n",
       "    <tr>\n",
       "      <th>Rel Hum_%</th>\n",
       "      <td>-0.220182</td>\n",
       "      <td>0.139494</td>\n",
       "      <td>1.000000</td>\n",
       "      <td>-0.092743</td>\n",
       "      <td>-0.633683</td>\n",
       "      <td>-0.231424</td>\n",
       "    </tr>\n",
       "    <tr>\n",
       "      <th>Wind Speed_km/h</th>\n",
       "      <td>-0.061876</td>\n",
       "      <td>-0.095685</td>\n",
       "      <td>-0.092743</td>\n",
       "      <td>1.000000</td>\n",
       "      <td>0.004883</td>\n",
       "      <td>-0.356613</td>\n",
       "    </tr>\n",
       "    <tr>\n",
       "      <th>Visibility_km</th>\n",
       "      <td>0.273455</td>\n",
       "      <td>0.050813</td>\n",
       "      <td>-0.633683</td>\n",
       "      <td>0.004883</td>\n",
       "      <td>1.000000</td>\n",
       "      <td>0.231847</td>\n",
       "    </tr>\n",
       "    <tr>\n",
       "      <th>Press_kPa</th>\n",
       "      <td>-0.236389</td>\n",
       "      <td>-0.320616</td>\n",
       "      <td>-0.231424</td>\n",
       "      <td>-0.356613</td>\n",
       "      <td>0.231847</td>\n",
       "      <td>1.000000</td>\n",
       "    </tr>\n",
       "  </tbody>\n",
       "</table>\n",
       "</div>"
      ],
      "text/plain": [
       "                    Temp_C  Dew Point Temp_C  Rel Hum_%  Wind Speed_km/h  \\\n",
       "Temp_C            1.000000          0.932714  -0.220182        -0.061876   \n",
       "Dew Point Temp_C  0.932714          1.000000   0.139494        -0.095685   \n",
       "Rel Hum_%        -0.220182          0.139494   1.000000        -0.092743   \n",
       "Wind Speed_km/h  -0.061876         -0.095685  -0.092743         1.000000   \n",
       "Visibility_km     0.273455          0.050813  -0.633683         0.004883   \n",
       "Press_kPa        -0.236389         -0.320616  -0.231424        -0.356613   \n",
       "\n",
       "                  Visibility_km  Press_kPa  \n",
       "Temp_C                 0.273455  -0.236389  \n",
       "Dew Point Temp_C       0.050813  -0.320616  \n",
       "Rel Hum_%             -0.633683  -0.231424  \n",
       "Wind Speed_km/h        0.004883  -0.356613  \n",
       "Visibility_km          1.000000   0.231847  \n",
       "Press_kPa              0.231847   1.000000  "
      ]
     },
     "execution_count": 9,
     "metadata": {},
     "output_type": "execute_result"
    }
   ],
   "source": [
    "# Correlation between variables \n",
    "# Measure the strength and direction of linear relationship between numeric variables \n",
    "\n",
    "# Filter numeric variables \n",
    "numerics = ['int16', 'int32', 'int64', 'float16', 'float32', 'float64']\n",
    "newdf = data.select_dtypes(include=numerics)\n",
    "\n",
    "# Create a correlation matrix \n",
    "corr = newdf.corr()\n",
    "corr"
   ]
  },
  {
   "cell_type": "markdown",
   "metadata": {},
   "source": [
    "### Outliers.\n",
    "\n",
    "An outlier is an object that deviates significantly from the rest/normal ones. Identifying them is important in stattistics since they can distort/skew analysis"
   ]
  },
  {
   "cell_type": "code",
   "execution_count": 10,
   "metadata": {},
   "outputs": [
    {
     "data": {
      "text/plain": [
       "['Temp_C',\n",
       " 'Dew Point Temp_C',\n",
       " 'Rel Hum_%',\n",
       " 'Wind Speed_km/h',\n",
       " 'Visibility_km',\n",
       " 'Press_kPa']"
      ]
     },
     "execution_count": 10,
     "metadata": {},
     "output_type": "execute_result"
    }
   ],
   "source": [
    "features_lst = newdf.columns.tolist()\n",
    "features_lst"
   ]
  }
 ],
 "metadata": {
  "kernelspec": {
   "display_name": "myenv",
   "language": "python",
   "name": "python3"
  },
  "language_info": {
   "codemirror_mode": {
    "name": "ipython",
    "version": 3
   },
   "file_extension": ".py",
   "mimetype": "text/x-python",
   "name": "python",
   "nbconvert_exporter": "python",
   "pygments_lexer": "ipython3",
   "version": "3.12.2"
  }
 },
 "nbformat": 4,
 "nbformat_minor": 2
}
